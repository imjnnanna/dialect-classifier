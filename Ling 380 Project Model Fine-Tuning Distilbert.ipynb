{
 "cells": [
  {
   "cell_type": "code",
   "execution_count": 1,
   "id": "448e73c0-8609-444f-a71d-fd2f5f6675b4",
   "metadata": {},
   "outputs": [
    {
     "name": "stderr",
     "output_type": "stream",
     "text": [
      "[nltk_data] Downloading package stopwords to\n",
      "[nltk_data]     /Users/danielwang/nltk_data...\n",
      "[nltk_data]   Package stopwords is already up-to-date!\n"
     ]
    }
   ],
   "source": [
    "import transformers\n",
    "from transformers import DistilBertTokenizer\n",
    "from transformers import TFDistilBertForSequenceClassification\n",
    "from transformers import TextClassificationPipeline\n",
    "\n",
    "import tensorflow as tf\n",
    "import pandas as pd\n",
    "import json\n",
    "import gc\n",
    "\n",
    "from sklearn.model_selection import train_test_split\n",
    "\n",
    "import re\n",
    "import nltk\n",
    "from nltk.corpus import stopwords\n",
    "nltk.download('stopwords')\n",
    "stopw = stopwords.words('english')\n",
    "\n",
    "import seaborn as sns\n",
    "import matplotlib.pyplot as plt\n",
    "from plotly.offline import iplot\n",
    "\n",
    "from tqdm import tqdm\n"
   ]
  },
  {
   "cell_type": "code",
   "execution_count": 2,
   "id": "0abba31a-4ebf-4624-a195-232fd7a4bfaa",
   "metadata": {},
   "outputs": [],
   "source": [
    "csv = pd.read_csv(\"cleaned_slayer.csv\")"
   ]
  },
  {
   "cell_type": "code",
   "execution_count": 42,
   "id": "690961aa-5779-4659-9101-360ba10df585",
   "metadata": {},
   "outputs": [
    {
     "data": {
      "text/plain": [
       "file_name\n",
       "0     339\n",
       "1     338\n",
       "2     130\n",
       "3     117\n",
       "4      88\n",
       "5      85\n",
       "6      71\n",
       "7      45\n",
       "8      41\n",
       "9      40\n",
       "10     38\n",
       "11     38\n",
       "12     37\n",
       "13     37\n",
       "14     36\n",
       "15     35\n",
       "16     35\n",
       "17     35\n",
       "18     34\n",
       "19     31\n",
       "Name: count, dtype: int64"
      ]
     },
     "execution_count": 42,
     "metadata": {},
     "output_type": "execute_result"
    }
   ],
   "source": [
    "csv['file_name'].value_counts()"
   ]
  },
  {
   "cell_type": "code",
   "execution_count": 4,
   "id": "3224a628-d3ee-4aaf-9667-e4c9e84ab203",
   "metadata": {},
   "outputs": [],
   "source": [
    "data_texts = csv['content'].to_list()\n",
    "\n",
    "data_labels = csv['file_name'].to_list()"
   ]
  },
  {
   "cell_type": "code",
   "execution_count": 5,
   "id": "32b6115c-adcc-4e5e-b85f-68a84069bd62",
   "metadata": {},
   "outputs": [],
   "source": [
    "#Train Test Split\n",
    "train_texts, val_texts, train_labels, val_labels = train_test_split(data_texts, data_labels, test_size = 0.2, random_state = 0 )\n",
    "\n",
    "\n",
    "train_texts, test_texts, train_labels, test_labels = train_test_split(train_texts, train_labels, test_size = 0.01, random_state = 0 )\n"
   ]
  },
  {
   "cell_type": "code",
   "execution_count": 6,
   "id": "ec07ba8c-4c1c-4f7d-af7d-61b3699d4df4",
   "metadata": {},
   "outputs": [
    {
     "name": "stderr",
     "output_type": "stream",
     "text": [
      "Some weights of DistilBertForSequenceClassification were not initialized from the model checkpoint at distilbert-base-uncased and are newly initialized: ['classifier.bias', 'classifier.weight', 'pre_classifier.bias', 'pre_classifier.weight']\n",
      "You should probably TRAIN this model on a down-stream task to be able to use it for predictions and inference.\n",
      "/Library/Frameworks/Python.framework/Versions/3.12/lib/python3.12/site-packages/transformers/training_args.py:1575: FutureWarning:\n",
      "\n",
      "`evaluation_strategy` is deprecated and will be removed in version 4.46 of 🤗 Transformers. Use `eval_strategy` instead\n",
      "\n"
     ]
    },
    {
     "data": {
      "text/html": [
       "\n",
       "    <div>\n",
       "      \n",
       "      <progress value='574' max='574' style='width:300px; height:20px; vertical-align: middle;'></progress>\n",
       "      [574/574 39:04, Epoch 7/7]\n",
       "    </div>\n",
       "    <table border=\"1\" class=\"dataframe\">\n",
       "  <thead>\n",
       " <tr style=\"text-align: left;\">\n",
       "      <th>Step</th>\n",
       "      <th>Training Loss</th>\n",
       "      <th>Validation Loss</th>\n",
       "      <th>Accuracy</th>\n",
       "      <th>Precision</th>\n",
       "      <th>F1</th>\n",
       "    </tr>\n",
       "  </thead>\n",
       "  <tbody>\n",
       "    <tr>\n",
       "      <td>100</td>\n",
       "      <td>No log</td>\n",
       "      <td>0.915425</td>\n",
       "      <td>0.269697</td>\n",
       "      <td>0.113353</td>\n",
       "      <td>0.151310</td>\n",
       "    </tr>\n",
       "    <tr>\n",
       "      <td>200</td>\n",
       "      <td>No log</td>\n",
       "      <td>0.629339</td>\n",
       "      <td>0.421212</td>\n",
       "      <td>0.301976</td>\n",
       "      <td>0.329891</td>\n",
       "    </tr>\n",
       "    <tr>\n",
       "      <td>300</td>\n",
       "      <td>No log</td>\n",
       "      <td>0.575003</td>\n",
       "      <td>0.421212</td>\n",
       "      <td>0.305032</td>\n",
       "      <td>0.330303</td>\n",
       "    </tr>\n",
       "    <tr>\n",
       "      <td>400</td>\n",
       "      <td>No log</td>\n",
       "      <td>0.658770</td>\n",
       "      <td>0.427273</td>\n",
       "      <td>0.284557</td>\n",
       "      <td>0.328103</td>\n",
       "    </tr>\n",
       "    <tr>\n",
       "      <td>500</td>\n",
       "      <td>0.550100</td>\n",
       "      <td>0.847353</td>\n",
       "      <td>0.415152</td>\n",
       "      <td>0.281724</td>\n",
       "      <td>0.319383</td>\n",
       "    </tr>\n",
       "  </tbody>\n",
       "</table><p>"
      ],
      "text/plain": [
       "<IPython.core.display.HTML object>"
      ]
     },
     "metadata": {},
     "output_type": "display_data"
    },
    {
     "name": "stderr",
     "output_type": "stream",
     "text": [
      "/Library/Frameworks/Python.framework/Versions/3.12/lib/python3.12/site-packages/sklearn/metrics/_classification.py:1531: UndefinedMetricWarning:\n",
      "\n",
      "Precision is ill-defined and being set to 0.0 in labels with no predicted samples. Use `zero_division` parameter to control this behavior.\n",
      "\n",
      "/Library/Frameworks/Python.framework/Versions/3.12/lib/python3.12/site-packages/sklearn/metrics/_classification.py:1531: UndefinedMetricWarning:\n",
      "\n",
      "Precision is ill-defined and being set to 0.0 in labels with no predicted samples. Use `zero_division` parameter to control this behavior.\n",
      "\n",
      "/Library/Frameworks/Python.framework/Versions/3.12/lib/python3.12/site-packages/sklearn/metrics/_classification.py:1531: UndefinedMetricWarning:\n",
      "\n",
      "Precision is ill-defined and being set to 0.0 in labels with no predicted samples. Use `zero_division` parameter to control this behavior.\n",
      "\n",
      "/Library/Frameworks/Python.framework/Versions/3.12/lib/python3.12/site-packages/sklearn/metrics/_classification.py:1531: UndefinedMetricWarning:\n",
      "\n",
      "Precision is ill-defined and being set to 0.0 in labels with no predicted samples. Use `zero_division` parameter to control this behavior.\n",
      "\n",
      "/Library/Frameworks/Python.framework/Versions/3.12/lib/python3.12/site-packages/sklearn/metrics/_classification.py:1531: UndefinedMetricWarning:\n",
      "\n",
      "Precision is ill-defined and being set to 0.0 in labels with no predicted samples. Use `zero_division` parameter to control this behavior.\n",
      "\n"
     ]
    },
    {
     "data": {
      "text/plain": [
       "TrainOutput(global_step=574, training_loss=0.4972773960658482, metrics={'train_runtime': 2346.8163, 'train_samples_per_second': 3.895, 'train_steps_per_second': 0.245, 'total_flos': 1211081748817920.0, 'train_loss': 0.4972773960658482, 'epoch': 7.0})"
      ]
     },
     "execution_count": 6,
     "metadata": {},
     "output_type": "execute_result"
    }
   ],
   "source": [
    "from transformers import DistilBertTokenizer, DistilBertForSequenceClassification, Trainer, TrainingArguments\n",
    "from torch.utils.data import Dataset, DataLoader\n",
    "import torch\n",
    "\n",
    "from sklearn.metrics import accuracy_score, precision_score, f1_score\n",
    "\n",
    "def compute_metrics(eval_pred):\n",
    "    predictions, labels = eval_pred\n",
    "    preds = predictions.argmax(axis=-1)  # Get the index of the highest logit as the predicted class\n",
    "    acc = accuracy_score(labels, preds)\n",
    "    precision = precision_score(labels, preds, average='weighted')\n",
    "    f1 = f1_score(labels, preds, average='weighted')\n",
    "    return {\n",
    "        \"accuracy\": acc,\n",
    "        \"precision\": precision,\n",
    "        \"f1\": f1\n",
    "    }\n",
    "\n",
    "# Model and tokenizer\n",
    "tokenizer = DistilBertTokenizer.from_pretrained('distilbert-base-uncased')\n",
    "\n",
    "# Tokenize the data\n",
    "train_encodings = tokenizer(train_texts, truncation=True, padding=True, max_length=512)\n",
    "val_encodings = tokenizer(val_texts, truncation=True, padding=True, max_length=512)\n",
    "\n",
    "# Custom Dataset class for PyTorch\n",
    "class TextDataset(Dataset):\n",
    "    def __init__(self, encodings, labels):\n",
    "        self.encodings = encodings\n",
    "        self.labels = labels\n",
    "\n",
    "    def __len__(self):\n",
    "        return len(self.labels)\n",
    "\n",
    "    def __getitem__(self, idx):\n",
    "        item = {key: torch.tensor(val[idx]) for key, val in self.encodings.items()}\n",
    "        item['labels'] = torch.tensor(self.labels[idx])\n",
    "        return item\n",
    "\n",
    "# Convert to PyTorch Datasets\n",
    "train_dataset = TextDataset(train_encodings, train_labels)\n",
    "val_dataset = TextDataset(val_encodings, val_labels)\n",
    "\n",
    "# Model definition\n",
    "trainer_model = DistilBertForSequenceClassification.from_pretrained('distilbert-base-uncased', num_labels=5)\n",
    "\n",
    "# Training arguments\n",
    "training_args = TrainingArguments(\n",
    "    output_dir='./results',          \n",
    "    num_train_epochs=7,              \n",
    "    per_device_train_batch_size=16,  \n",
    "    per_device_eval_batch_size=64,   \n",
    "    warmup_steps=500,                \n",
    "    weight_decay=1e-5,               \n",
    "    logging_dir='./logs',            \n",
    "    evaluation_strategy=\"steps\",     \n",
    "    eval_steps=100                   \n",
    ")\n",
    "\n",
    "# Trainer setup\n",
    "trainer = Trainer(\n",
    "    model=trainer_model,                 \n",
    "    args=training_args,                  \n",
    "    train_dataset=train_dataset,         \n",
    "    eval_dataset=val_dataset,\n",
    "    compute_metrics=compute_metrics\n",
    ")\n",
    "\n",
    "# Train the model\n",
    "trainer.train()\n"
   ]
  },
  {
   "cell_type": "code",
   "execution_count": 48,
   "id": "e1779128-d822-463f-9682-e71720561b42",
   "metadata": {},
   "outputs": [],
   "source": [
    "\n",
    "trainer.save_model(\"distilbertfinetune\")"
   ]
  },
  {
   "cell_type": "code",
   "execution_count": 79,
   "id": "55125f7c-00bc-4101-9ca3-ea303a68ce19",
   "metadata": {},
   "outputs": [],
   "source": [
    "test = pd.read_csv(\"test.csv\")"
   ]
  },
  {
   "cell_type": "code",
   "execution_count": 80,
   "id": "a27c571f-6cf5-4e5e-8bd5-322ef0dd38b7",
   "metadata": {},
   "outputs": [],
   "source": [
    "# Convert to numeric with errors='coerce' (turns invalid values into NaN)\n",
    "test['country'] = pd.to_numeric(test['country'], errors='coerce')\n",
    "\n",
    "# Drop rows with NaN values (those that couldn't be converted)\n",
    "test = test.dropna(subset=['country'])\n",
    "\n"
   ]
  },
  {
   "cell_type": "code",
   "execution_count": 81,
   "id": "486440db-dd96-4e48-865b-72406c1ff2e4",
   "metadata": {},
   "outputs": [
    {
     "data": {
      "text/plain": [
       "country\n",
       "1.0     517\n",
       "0.0     114\n",
       "3.0      34\n",
       "2.0      13\n",
       "10.0      1\n",
       "4.0       1\n",
       "Name: count, dtype: int64"
      ]
     },
     "execution_count": 81,
     "metadata": {},
     "output_type": "execute_result"
    }
   ],
   "source": [
    "test['country'].value_counts()"
   ]
  },
  {
   "cell_type": "code",
   "execution_count": 82,
   "id": "a25461ab-e082-4124-a003-2c641d5990d0",
   "metadata": {},
   "outputs": [],
   "source": [
    "test_texts = test['text'].to_list()\n",
    "\n",
    "test_labels = test['country'].to_list()"
   ]
  },
  {
   "cell_type": "code",
   "execution_count": 83,
   "id": "221e3280-24fb-46b7-92eb-14e99c2c8f76",
   "metadata": {},
   "outputs": [],
   "source": [
    "from transformers import DistilBertTokenizer\n",
    "\n",
    "# Load the tokenizer used during training\n",
    "tokenizer = DistilBertTokenizer.from_pretrained('distilbert-base-uncased')\n",
    "\n",
    "# Tokenize the test data\n",
    "test_encodings = tokenizer(test_texts, truncation=True, padding=True, max_length=512)\n"
   ]
  },
  {
   "cell_type": "code",
   "execution_count": 84,
   "id": "652c97c3-0971-4954-acc9-d851d7e7da3c",
   "metadata": {},
   "outputs": [],
   "source": [
    "class NewTestDataset(Dataset):\n",
    "    def __init__(self, encodings, labels = None):\n",
    "        self.encodings = encodings\n",
    "        self.labels = labels\n",
    "\n",
    "    def __len__(self):\n",
    "        return len(self.encodings[\"input_ids\"])\n",
    "\n",
    "    def __getitem__(self, idx):\n",
    "        item = {key: torch.tensor(val[idx]) for key, val in self.encodings.items()}\n",
    "        if self.labels:\n",
    "            item[\"labels\"] = torch.tensor(self.labels[idx])\n",
    "        return item\n",
    "\n",
    "# Instantiate dataset\n",
    "test_dataset = TextDataset(test_encodings, test_labels)\n"
   ]
  },
  {
   "cell_type": "code",
   "execution_count": 85,
   "id": "ad44a4e6-7fc8-42dc-be0f-948066d8da40",
   "metadata": {},
   "outputs": [
    {
     "data": {
      "text/html": [],
      "text/plain": [
       "<IPython.core.display.HTML object>"
      ]
     },
     "metadata": {},
     "output_type": "display_data"
    },
    {
     "name": "stderr",
     "output_type": "stream",
     "text": [
      "/Library/Frameworks/Python.framework/Versions/3.12/lib/python3.12/site-packages/sklearn/metrics/_classification.py:1531: UndefinedMetricWarning:\n",
      "\n",
      "Precision is ill-defined and being set to 0.0 in labels with no predicted samples. Use `zero_division` parameter to control this behavior.\n",
      "\n"
     ]
    }
   ],
   "source": [
    "test_results = trainer.predict(test_dataset)"
   ]
  },
  {
   "cell_type": "code",
   "execution_count": 86,
   "id": "eda013a1-e831-4670-8044-a5429804273b",
   "metadata": {},
   "outputs": [
    {
     "name": "stdout",
     "output_type": "stream",
     "text": [
      "Test Accuracy: 0.7558823529411764\n",
      "Test F1: 0.7686626742281454\n",
      "Test Precision: 0.7833735596130005\n"
     ]
    }
   ],
   "source": [
    "metrics = test_results.metrics\n",
    "print(f\"Test Accuracy: {metrics['test_accuracy']}\")\n",
    "print(f\"Test F1: {metrics['test_f1']}\")\n",
    "print(f\"Test Precision: {metrics['test_precision']}\")"
   ]
  },
  {
   "cell_type": "code",
   "execution_count": 8,
   "id": "a2f808e2-9233-460b-aff8-d944e2dd18f1",
   "metadata": {},
   "outputs": [
    {
     "data": {
      "text/html": [
       "\n",
       "    <div>\n",
       "      \n",
       "      <progress value='6' max='6' style='width:300px; height:20px; vertical-align: middle;'></progress>\n",
       "      [6/6 00:10]\n",
       "    </div>\n",
       "    "
      ],
      "text/plain": [
       "<IPython.core.display.HTML object>"
      ]
     },
     "metadata": {},
     "output_type": "display_data"
    },
    {
     "name": "stdout",
     "output_type": "stream",
     "text": [
      "Validation Loss: 0.8993900418281555\n",
      "Validation Accuracy: 0.4212121212121212\n"
     ]
    }
   ],
   "source": [
    "# Evaluate the model on the validation dataset\n",
    "# Evaluate the model\n",
    "eval_results = trainer.evaluate()\n",
    "\n",
    "# Output validation loss and accuracy\n",
    "validation_loss = eval_results.get(\"eval_loss\", None)\n",
    "accuracy = eval_results.get(\"eval_accuracy\", None)\n",
    "\n",
    "print(f\"Validation Loss: {validation_loss}\")\n",
    "print(f\"Validation Accuracy: {accuracy}\")\n",
    "\n"
   ]
  },
  {
   "cell_type": "code",
   "execution_count": 36,
   "id": "a8cd06a0-41ec-4bf3-8061-e892b81a4fa8",
   "metadata": {},
   "outputs": [
    {
     "name": "stdout",
     "output_type": "stream",
     "text": [
      "[[ 69  33   6   6   0   0]\n",
      " [ 29 437   6  44   1   0]\n",
      " [  3   4   2   4   0   0]\n",
      " [  2  26   0   6   0   0]\n",
      " [  1   0   0   0   0   0]\n",
      " [  0   0   0   1   0   0]]\n"
     ]
    }
   ],
   "source": [
    "predictions = test_results.predictions.argmax(axis=-1)  # Choose the class with highest probability\n",
    "true_labels = test_results.label_ids\n",
    "\n",
    "# Compute confusion matrix\n",
    "conf_matrix = confusion_matrix(true_labels, predictions)\n",
    "\n",
    "# Optionally, print or visualize the confusion matrix\n",
    "print(conf_matrix)"
   ]
  },
  {
   "cell_type": "code",
   "execution_count": 87,
   "id": "6ce53125-81bb-42ec-bef7-0fe6e30fdc0b",
   "metadata": {},
   "outputs": [],
   "source": [
    "country_codes = ['GB', 'US', 'AU', 'CA', 'IE', 'PH']\n",
    "number_to_country_code = {index: country for index, country in enumerate(country_codes)}\n"
   ]
  },
  {
   "cell_type": "code",
   "execution_count": 88,
   "id": "870894c3-3819-4631-ab76-26131e598d1a",
   "metadata": {},
   "outputs": [
    {
     "data": {
      "image/png": "[encoded data removed]",
      "text/plain": [
       "<Figure size 1000x800 with 2 Axes>"
      ]
     },
     "metadata": {},
     "output_type": "display_data"
    }
   ],
   "source": [
    "import torch\n",
    "from sklearn.metrics import confusion_matrix\n",
    "import matplotlib.pyplot as plt\n",
    "import numpy as np\n",
    "\n",
    "\n",
    "# Get the predicted labels and true labels\n",
    "predictions = test_results.predictions.argmax(axis=-1)  # Choose the class with highest probability\n",
    "true_labels = test_results.label_ids\n",
    "\n",
    "# Compute the normalized confusion matrix\n",
    "cm_normalized = confusion_matrix(true_labels, predictions, normalize='true')\n",
    "\n",
    "# Get class names from your label encoder or dataset\n",
    "# If you have a label encoder, use it to get the class names:\n",
    "class_names = [number_to_country_code[i] for i in range(len(country_codes))]\n",
    "\n",
    "# Create a confusion matrix plot\n",
    "plt.figure(figsize=(10, 8))\n",
    "plt.imshow(cm_normalized, interpolation='nearest', cmap='Blues')\n",
    "plt.colorbar()\n",
    "\n",
    "# Add labels for axes\n",
    "tick_marks = np.arange(len(class_names))\n",
    "plt.xticks(tick_marks, class_names, rotation=45, ha=\"right\")\n",
    "plt.yticks(tick_marks, class_names)\n",
    "\n",
    "\n",
    "# Display overall accuracy\n",
    "accuracy = (predictions == true_labels).mean()\n",
    "plt.text(0.5, -0.1, f'Accuracy: {accuracy:.2f}', size=15, ha='center', transform=plt.gca().transAxes)\n",
    "\n",
    "# Add labels and title\n",
    "plt.xlabel('Predicted Label')\n",
    "plt.ylabel('True Label')\n",
    "plt.title('Normalized Confusion Matrix')\n",
    "plt.tight_layout()\n",
    "plt.show()\n",
    "\n"
   ]
  },
  {
   "cell_type": "code",
   "execution_count": null,
   "id": "04b4ee24-ec5c-45fb-b7cd-4894bbac8a7d",
   "metadata": {},
   "outputs": [],
   "source": []
  },
  {
   "cell_type": "code",
   "execution_count": 73,
   "id": "0d2eb51f-73f7-4fe0-8d32-de076a9ac4b2",
   "metadata": {},
   "outputs": [],
   "source": [
    "test = pd.read_csv(\"testcovid.csv\")\n",
    "# Convert to numeric with errors='coerce' (turns invalid values into NaN)\n",
    "test['country'] = pd.to_numeric(test['country'], errors='coerce')\n",
    "\n",
    "# Drop rows with NaN values (those that couldn't be converted)\n",
    "test = test.dropna(subset=['country'])\n",
    "test_texts = test['text'].to_list()\n",
    "\n",
    "test_labels = test['country'].to_list()\n",
    "\n"
   ]
  },
  {
   "cell_type": "code",
   "execution_count": 74,
   "id": "e2f6a978-62c3-4784-9d91-9848d7b78734",
   "metadata": {},
   "outputs": [],
   "source": [
    "\n",
    "from transformers import DistilBertTokenizer\n",
    "\n",
    "# Load the tokenizer used during training\n",
    "tokenizer = DistilBertTokenizer.from_pretrained('distilbert-base-uncased')\n",
    "\n",
    "# Tokenize the test data\n",
    "test_encodings = tokenizer(test_texts, truncation=True, padding=True, max_length=512)\n",
    "class NewTestDataset(Dataset):\n",
    "    def __init__(self, encodings, labels = None):\n",
    "        self.encodings = encodings\n",
    "        self.labels = labels\n",
    "\n",
    "    def __len__(self):\n",
    "        return len(self.encodings[\"input_ids\"])\n",
    "\n",
    "    def __getitem__(self, idx):\n",
    "        item = {key: torch.tensor(val[idx]) for key, val in self.encodings.items()}\n",
    "        if self.labels:\n",
    "            item[\"labels\"] = torch.tensor(self.labels[idx])\n",
    "        return item\n",
    "\n",
    "# Instantiate dataset\n",
    "test_dataset = TextDataset(test_encodings, test_labels)\n"
   ]
  },
  {
   "cell_type": "code",
   "execution_count": 75,
   "id": "d7285718-08db-4e91-8090-68728e523c48",
   "metadata": {},
   "outputs": [
    {
     "data": {
      "text/html": [],
      "text/plain": [
       "<IPython.core.display.HTML object>"
      ]
     },
     "metadata": {},
     "output_type": "display_data"
    },
    {
     "name": "stderr",
     "output_type": "stream",
     "text": [
      "/Library/Frameworks/Python.framework/Versions/3.12/lib/python3.12/site-packages/sklearn/metrics/_classification.py:1531: UndefinedMetricWarning:\n",
      "\n",
      "Precision is ill-defined and being set to 0.0 in labels with no predicted samples. Use `zero_division` parameter to control this behavior.\n",
      "\n"
     ]
    }
   ],
   "source": [
    "test_results = trainer.predict(test_dataset)"
   ]
  },
  {
   "cell_type": "code",
   "execution_count": 76,
   "id": "a8a2096b-bf0d-4252-9796-33a31fe49acf",
   "metadata": {},
   "outputs": [
    {
     "name": "stdout",
     "output_type": "stream",
     "text": [
      "Test Accuracy: 0.5144592952612393\n",
      "Test F1: 0.4434883454084479\n",
      "Test Precision: 0.40793645790836736\n"
     ]
    }
   ],
   "source": [
    "metrics = test_results.metrics\n",
    "print(f\"Test Accuracy: {metrics['test_accuracy']}\")\n",
    "print(f\"Test F1: {metrics['test_f1']}\")\n",
    "print(f\"Test Precision: {metrics['test_precision']}\")"
   ]
  },
  {
   "cell_type": "code",
   "execution_count": 62,
   "id": "c741f305-8a1b-4e44-8a8e-d1f00fb99b41",
   "metadata": {},
   "outputs": [
    {
     "data": {
      "text/plain": [
       "country\n",
       "1.0     1720\n",
       "0.0      356\n",
       "5.0      319\n",
       "3.0      261\n",
       "2.0      211\n",
       "9.0      186\n",
       "4.0      179\n",
       "13.0     164\n",
       "11.0     134\n",
       "6.0      110\n",
       "10.0      96\n",
       "12.0      93\n",
       "14.0      74\n",
       "7.0       60\n",
       "15.0      34\n",
       "18.0      34\n",
       "8.0       31\n",
       "16.0      29\n",
       "17.0      14\n",
       "19.0      10\n",
       "Name: count, dtype: int64"
      ]
     },
     "execution_count": 62,
     "metadata": {},
     "output_type": "execute_result"
    }
   ],
   "source": [
    "test['country'].value_counts()"
   ]
  },
  {
   "cell_type": "code",
   "execution_count": 77,
   "id": "68fb10fe-729a-445e-9147-931bcb0ad2ee",
   "metadata": {},
   "outputs": [],
   "source": [
    "\n",
    "country_codes = ['gb', 'us', 'au', 'ca', 'ie', 'in', 'nz', 'pk', 'lk', 'za', 'ph', 'sg', 'my', 'ng', 'ke', 'bd', 'hk', 'jm', 'gh', 'tz']\n",
    "\n",
    "# Create a dictionary to map country codes to numbers starting from 0\n",
    "number_to_country_code = {index: country for index, country in enumerate(country_codes)}"
   ]
  },
  {
   "cell_type": "code",
   "execution_count": 78,
   "id": "949564b8-fcd3-4458-bb99-5bfd413668b4",
   "metadata": {},
   "outputs": [
    {
     "data": {
      "image/png": "[encoded data removed]",
      "text/plain": [
       "<Figure size 1000x800 with 2 Axes>"
      ]
     },
     "metadata": {},
     "output_type": "display_data"
    }
   ],
   "source": [
    "import torch\n",
    "from sklearn.metrics import confusion_matrix\n",
    "import matplotlib.pyplot as plt\n",
    "import numpy as np\n",
    "\n",
    "\n",
    "# Get the predicted labels and true labels\n",
    "predictions = test_results.predictions.argmax(axis=-1)  # Choose the class with highest probability\n",
    "true_labels = test_results.label_ids\n",
    "\n",
    "# Compute the normalized confusion matrix\n",
    "cm_normalized = confusion_matrix(true_labels, predictions, normalize='true')\n",
    "\n",
    "# Get class names from your label encoder or dataset\n",
    "# If you have a label encoder, use it to get the class names:\n",
    "class_names = [number_to_country_code[i] for i in range(len(country_codes))]\n",
    "\n",
    "# Create a confusion matrix plot\n",
    "plt.figure(figsize=(10, 8))\n",
    "plt.imshow(cm_normalized, interpolation='nearest', cmap='Blues')\n",
    "plt.colorbar()\n",
    "\n",
    "# Add labels for axes\n",
    "tick_marks = np.arange(len(class_names))\n",
    "plt.xticks(tick_marks, class_names, rotation=45, ha=\"right\")\n",
    "plt.yticks(tick_marks, class_names)\n",
    "\n",
    "# Add annotations for all cells (with accuracy values)\n",
    "\n",
    "\n",
    "# Display overall accuracy\n",
    "accuracy = (predictions == true_labels).mean()\n",
    "plt.text(0.5, -0.1, f'Accuracy: {accuracy:.2f}', size=15, ha='center', transform=plt.gca().transAxes)\n",
    "\n",
    "# Add labels and title\n",
    "plt.xlabel('Predicted Label')\n",
    "plt.ylabel('True Label')\n",
    "plt.title('Normalized Confusion Matrix')\n",
    "plt.tight_layout()\n",
    "plt.show()\n",
    "\n"
   ]
  },
  {
   "cell_type": "code",
   "execution_count": null,
   "id": "240351de-8ca7-4dd4-82b9-3567dc97a599",
   "metadata": {},
   "outputs": [],
   "source": []
  },
  {
   "cell_type": "code",
   "execution_count": 97,
   "id": "32d084ed-e0f8-4332-bcbe-4f37b2b8413d",
   "metadata": {},
   "outputs": [],
   "source": [
    "test = pd.read_csv(\"testnow.csv\")\n",
    "# Convert to numeric with errors='coerce' (turns invalid values into NaN)\n",
    "test['country'] = pd.to_numeric(test['country'], errors='coerce')\n",
    "\n",
    "# Drop rows with NaN values (those that couldn't be converted)\n",
    "test = test.dropna(subset=['country'])\n",
    "test_texts = test['text'].to_list()\n",
    "\n",
    "test_labels = test['country'].to_list()\n"
   ]
  },
  {
   "cell_type": "code",
   "execution_count": 98,
   "id": "f7be21a3-c67f-490e-88b9-302036abbe20",
   "metadata": {},
   "outputs": [],
   "source": [
    "\n",
    "from transformers import DistilBertTokenizer\n",
    "\n",
    "# Load the tokenizer used during training\n",
    "tokenizer = DistilBertTokenizer.from_pretrained('distilbert-base-uncased')\n",
    "\n",
    "# Tokenize the test data\n",
    "test_encodings = tokenizer(test_texts, truncation=True, padding=True, max_length=512)\n",
    "class NewTestDataset(Dataset):\n",
    "    def __init__(self, encodings, labels = None):\n",
    "        self.encodings = encodings\n",
    "        self.labels = labels\n",
    "\n",
    "    def __len__(self):\n",
    "        return len(self.encodings[\"input_ids\"])\n",
    "\n",
    "    def __getitem__(self, idx):\n",
    "        item = {key: torch.tensor(val[idx]) for key, val in self.encodings.items()}\n",
    "        if self.labels:\n",
    "            item[\"labels\"] = torch.tensor(self.labels[idx])\n",
    "        return item\n",
    "\n",
    "# Instantiate dataset\n",
    "test_dataset = TextDataset(test_encodings, test_labels)"
   ]
  },
  {
   "cell_type": "code",
   "execution_count": 99,
   "id": "e580aec8-928d-40ec-8842-c989e6c5d6ad",
   "metadata": {},
   "outputs": [
    {
     "data": {
      "text/html": [],
      "text/plain": [
       "<IPython.core.display.HTML object>"
      ]
     },
     "metadata": {},
     "output_type": "display_data"
    },
    {
     "name": "stderr",
     "output_type": "stream",
     "text": [
      "/Library/Frameworks/Python.framework/Versions/3.12/lib/python3.12/site-packages/sklearn/metrics/_classification.py:1531: UndefinedMetricWarning:\n",
      "\n",
      "Precision is ill-defined and being set to 0.0 in labels with no predicted samples. Use `zero_division` parameter to control this behavior.\n",
      "\n"
     ]
    }
   ],
   "source": [
    "test_results = trainer.predict(test_dataset)"
   ]
  },
  {
   "cell_type": "code",
   "execution_count": 71,
   "id": "bc1c2ce6-b007-432c-842d-b5b9bad7f185",
   "metadata": {},
   "outputs": [
    {
     "data": {
      "image/png": "[encoded data removed]",
      "text/plain": [
       "<Figure size 1000x800 with 2 Axes>"
      ]
     },
     "metadata": {},
     "output_type": "display_data"
    }
   ],
   "source": [
    "import torch\n",
    "from sklearn.metrics import confusion_matrix\n",
    "import matplotlib.pyplot as plt\n",
    "import numpy as np\n",
    "\n",
    "\n",
    "# Get the predicted labels and true labels\n",
    "predictions = test_results.predictions.argmax(axis=-1)  # Choose the class with highest probability\n",
    "true_labels = test_results.label_ids\n",
    "\n",
    "# Compute the normalized confusion matrix\n",
    "cm_normalized = confusion_matrix(true_labels, predictions, normalize='true')\n",
    "\n",
    "# Get class names from your label encoder or dataset\n",
    "# If you have a label encoder, use it to get the class names:\n",
    "class_names = [number_to_country_code[i] for i in range(len(country_codes))]\n",
    "\n",
    "# Create a confusion matrix plot\n",
    "plt.figure(figsize=(10, 8))\n",
    "plt.imshow(cm_normalized, interpolation='nearest', cmap='Blues')\n",
    "plt.colorbar()\n",
    "\n",
    "# Add labels for axes\n",
    "tick_marks = np.arange(len(class_names))\n",
    "plt.xticks(tick_marks, class_names, rotation=45, ha=\"right\")\n",
    "plt.yticks(tick_marks, class_names)\n",
    "\n",
    "# Add annotations for all cells (with accuracy values)\n",
    "# Display overall accuracy\n",
    "accuracy = (predictions == true_labels).mean()\n",
    "plt.text(0.5, -0.1, f'Accuracy: {accuracy:.2f}', size=15, ha='center', transform=plt.gca().transAxes)\n",
    "\n",
    "# Add labels and title\n",
    "plt.xlabel('Predicted Label')\n",
    "plt.ylabel('True Label')\n",
    "plt.title('Normalized Confusion Matrix')\n",
    "plt.tight_layout()\n",
    "plt.show()\n"
   ]
  },
  {
   "cell_type": "code",
   "execution_count": 100,
   "id": "19fca17a-e64e-4f89-be54-94d35e28e134",
   "metadata": {},
   "outputs": [
    {
     "name": "stdout",
     "output_type": "stream",
     "text": [
      "Test Accuracy: 0.3795391061452514\n",
      "Test F1: 0.2886829067140687\n",
      "Test Precision: 0.25839709945601697\n"
     ]
    }
   ],
   "source": [
    "metrics  = test_results.metrics\n",
    "print(f\"Test Accuracy: {metrics['test_accuracy']}\")\n",
    "print(f\"Test F1: {metrics['test_f1']}\")\n",
    "print(f\"Test Precision: {metrics['test_precision']}\")"
   ]
  }
 ],
 "metadata": {
  "kernelspec": {
   "display_name": "Python 3 (ipykernel)",
   "language": "python",
   "name": "python3"
  },
  "language_info": {
   "codemirror_mode": {
    "name": "ipython",
    "version": 3
   },
   "file_extension": ".py",
   "mimetype": "text/x-python",
   "name": "python",
   "nbconvert_exporter": "python",
   "pygments_lexer": "ipython3",
   "version": "3.12.5"
  }
 },
 "nbformat": 4,
 "nbformat_minor": 5
}

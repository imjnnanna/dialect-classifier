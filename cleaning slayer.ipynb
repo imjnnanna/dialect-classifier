{
 "cells": [
  {
   "cell_type": "code",
   "execution_count": 1,
   "id": "f3608d51-64dc-4f0a-84b5-d9e2f441b8d4",
   "metadata": {},
   "outputs": [],
   "source": [
    "import pandas as pd"
   ]
  },
  {
   "cell_type": "code",
   "execution_count": 4,
   "id": "09d749e4-84aa-4ab1-8070-ee979a851fe0",
   "metadata": {},
   "outputs": [],
   "source": [
    "df = pd.read_csv(\"slayer.csv\")"
   ]
  },
  {
   "cell_type": "code",
   "execution_count": 3,
   "id": "03eb3f29-6525-4486-b720-4680ac6477dc",
   "metadata": {},
   "outputs": [
    {
     "data": {
      "text/html": [
       "<div>\n",
       "<style scoped>\n",
       "    .dataframe tbody tr th:only-of-type {\n",
       "        vertical-align: middle;\n",
       "    }\n",
       "\n",
       "    .dataframe tbody tr th {\n",
       "        vertical-align: top;\n",
       "    }\n",
       "\n",
       "    .dataframe thead th {\n",
       "        text-align: right;\n",
       "    }\n",
       "</style>\n",
       "<table border=\"1\" class=\"dataframe\">\n",
       "  <thead>\n",
       "    <tr style=\"text-align: right;\">\n",
       "      <th></th>\n",
       "      <th>section_id</th>\n",
       "      <th>content</th>\n",
       "      <th>file_name</th>\n",
       "    </tr>\n",
       "  </thead>\n",
       "  <tbody>\n",
       "    <tr>\n",
       "      <th>0</th>\n",
       "      <td>##87151</td>\n",
       "      <td>43 ripsnorter unplayable watson is gone and h...</td>\n",
       "      <td>w_in_g.txt</td>\n",
       "    </tr>\n",
       "    <tr>\n",
       "      <th>1</th>\n",
       "      <td>##97951</td>\n",
       "      <td>welcome to the world confederation for physic...</td>\n",
       "      <td>w_in_g.txt</td>\n",
       "    </tr>\n",
       "    <tr>\n",
       "      <th>2</th>\n",
       "      <td>##209450</td>\n",
       "      <td>just over a week ago australia were bowled ou...</td>\n",
       "      <td>w_in_g.txt</td>\n",
       "    </tr>\n",
       "    <tr>\n",
       "      <th>3</th>\n",
       "      <td>##239752</td>\n",
       "      <td>release title 345612toolong 2007 release date...</td>\n",
       "      <td>w_in_g.txt</td>\n",
       "    </tr>\n",
       "    <tr>\n",
       "      <th>4</th>\n",
       "      <td>##411252</td>\n",
       "      <td>lte both radio and core network evolution is ...</td>\n",
       "      <td>w_in_g.txt</td>\n",
       "    </tr>\n",
       "    <tr>\n",
       "      <th>...</th>\n",
       "      <td>...</td>\n",
       "      <td>...</td>\n",
       "      <td>...</td>\n",
       "    </tr>\n",
       "    <tr>\n",
       "      <th>1645</th>\n",
       "      <td>##1151552</td>\n",
       "      <td>study could advantageously be carried on by s...</td>\n",
       "      <td>w_hk_g.txt</td>\n",
       "    </tr>\n",
       "    <tr>\n",
       "      <th>1646</th>\n",
       "      <td>##1153651</td>\n",
       "      <td>the official bit the concept of organic expre...</td>\n",
       "      <td>w_hk_g.txt</td>\n",
       "    </tr>\n",
       "    <tr>\n",
       "      <th>1647</th>\n",
       "      <td>##1154050</td>\n",
       "      <td>nietzsche hegel and schopenhauer hegel and th...</td>\n",
       "      <td>w_hk_g.txt</td>\n",
       "    </tr>\n",
       "    <tr>\n",
       "      <th>1648</th>\n",
       "      <td>##1154350</td>\n",
       "      <td>the forex market the foreign exchange market ...</td>\n",
       "      <td>w_hk_g.txt</td>\n",
       "    </tr>\n",
       "    <tr>\n",
       "      <th>1649</th>\n",
       "      <td>##1157850</td>\n",
       "      <td>some expo tourists dialed the summer hotline ...</td>\n",
       "      <td>w_hk_g.txt</td>\n",
       "    </tr>\n",
       "  </tbody>\n",
       "</table>\n",
       "<p>1650 rows × 3 columns</p>\n",
       "</div>"
      ],
      "text/plain": [
       "     section_id                                            content   file_name\n",
       "0       ##87151   43 ripsnorter unplayable watson is gone and h...  w_in_g.txt\n",
       "1       ##97951   welcome to the world confederation for physic...  w_in_g.txt\n",
       "2      ##209450   just over a week ago australia were bowled ou...  w_in_g.txt\n",
       "3      ##239752   release title 345612toolong 2007 release date...  w_in_g.txt\n",
       "4      ##411252   lte both radio and core network evolution is ...  w_in_g.txt\n",
       "...         ...                                                ...         ...\n",
       "1645  ##1151552   study could advantageously be carried on by s...  w_hk_g.txt\n",
       "1646  ##1153651   the official bit the concept of organic expre...  w_hk_g.txt\n",
       "1647  ##1154050   nietzsche hegel and schopenhauer hegel and th...  w_hk_g.txt\n",
       "1648  ##1154350   the forex market the foreign exchange market ...  w_hk_g.txt\n",
       "1649  ##1157850   some expo tourists dialed the summer hotline ...  w_hk_g.txt\n",
       "\n",
       "[1650 rows x 3 columns]"
      ]
     },
     "execution_count": 3,
     "metadata": {},
     "output_type": "execute_result"
    }
   ],
   "source": [
    "data"
   ]
  },
  {
   "cell_type": "code",
   "execution_count": 5,
   "id": "599693d2-2656-430e-8141-2cf8c45a0c64",
   "metadata": {},
   "outputs": [],
   "source": [
    "df = df[df['file_name'].str.endswith('.txt')]"
   ]
  },
  {
   "cell_type": "code",
   "execution_count": 13,
   "id": "c7b75fb5-a976-4475-b9ac-5e5e4211dd6e",
   "metadata": {},
   "outputs": [
    {
     "data": {
      "text/plain": [
       "file_name\n",
       "0     339\n",
       "1     338\n",
       "2     130\n",
       "3     117\n",
       "4      88\n",
       "5      85\n",
       "6      71\n",
       "7      45\n",
       "8      41\n",
       "9      40\n",
       "10     38\n",
       "11     38\n",
       "12     37\n",
       "13     37\n",
       "14     36\n",
       "15     35\n",
       "16     35\n",
       "17     35\n",
       "18     34\n",
       "19     31\n",
       "Name: count, dtype: int64"
      ]
     },
     "execution_count": 13,
     "metadata": {},
     "output_type": "execute_result"
    }
   ],
   "source": [
    "df['file_name'].value_counts()"
   ]
  },
  {
   "cell_type": "code",
   "execution_count": 8,
   "id": "586e405d-ba06-4603-8f19-23496ced41df",
   "metadata": {},
   "outputs": [],
   "source": [
    "df['file_name'] = df['file_name'].str[2:-6]"
   ]
  },
  {
   "cell_type": "code",
   "execution_count": 11,
   "id": "bf32bb79-88a5-4073-b031-d60b01cbcbe0",
   "metadata": {},
   "outputs": [
    {
     "name": "stdout",
     "output_type": "stream",
     "text": [
      "     section_id                                            content  file_name\n",
      "0       ##87151   43 ripsnorter unplayable watson is gone and h...          5\n",
      "1       ##97951   welcome to the world confederation for physic...          5\n",
      "2      ##209450   just over a week ago australia were bowled ou...          5\n",
      "3      ##239752   release title 345612toolong 2007 release date...          5\n",
      "4      ##411252   lte both radio and core network evolution is ...          5\n",
      "...         ...                                                ...        ...\n",
      "1645  ##1151552   study could advantageously be carried on by s...         16\n",
      "1646  ##1153651   the official bit the concept of organic expre...         16\n",
      "1647  ##1154050   nietzsche hegel and schopenhauer hegel and th...         16\n",
      "1648  ##1154350   the forex market the foreign exchange market ...         16\n",
      "1649  ##1157850   some expo tourists dialed the summer hotline ...         16\n",
      "\n",
      "[1650 rows x 3 columns]\n"
     ]
    },
    {
     "name": "stderr",
     "output_type": "stream",
     "text": [
      "/var/folders/h4/r6tpj_q56gb11bpc5pv3wfyr0000gn/T/ipykernel_13108/1654439711.py:7: FutureWarning: Downcasting behavior in `replace` is deprecated and will be removed in a future version. To retain the old behavior, explicitly call `result.infer_objects(copy=False)`. To opt-in to the future behavior, set `pd.set_option('future.no_silent_downcasting', True)`\n",
      "  df['file_name'] = df['file_name'].replace(country_code_to_number, regex=True)\n"
     ]
    }
   ],
   "source": [
    "country_codes = ['gb', 'us', 'au', 'ca', 'ie', 'in', 'nz', 'pk', 'lk', 'za', 'ph', 'sg', 'my', 'ng', 'ke', 'bd', 'hk', 'jm', 'gh', 'tz']\n",
    "\n",
    "# Create a dictionary to map country codes to numbers starting from 0\n",
    "country_code_to_number = {country: index for index, country in enumerate(country_codes)}\n",
    "\n",
    "# Replace country codes in 'file_name' with corresponding numbers\n",
    "df['file_name'] = df['file_name'].replace(country_code_to_number, regex=True)\n"
   ]
  },
  {
   "cell_type": "code",
   "execution_count": 14,
   "id": "097efcfe-1ace-4c3a-aa90-0e669f4c1585",
   "metadata": {},
   "outputs": [],
   "source": [
    "df.to_csv(\"cleaned_slayer.csv\")"
   ]
  }
 ],
 "metadata": {
  "kernelspec": {
   "display_name": "Python 3 (ipykernel)",
   "language": "python",
   "name": "python3"
  },
  "language_info": {
   "codemirror_mode": {
    "name": "ipython",
    "version": 3
   },
   "file_extension": ".py",
   "mimetype": "text/x-python",
   "name": "python",
   "nbconvert_exporter": "python",
   "pygments_lexer": "ipython3",
   "version": "3.12.5"
  }
 },
 "nbformat": 4,
 "nbformat_minor": 5
}

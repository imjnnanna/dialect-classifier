{
 "cells": [
  {
   "cell_type": "code",
   "execution_count": 1,
   "id": "d0bfc557-48b8-43b2-a77e-8fb1b54f94a3",
   "metadata": {},
   "outputs": [],
   "source": [
    "import pandas as pd"
   ]
  },
  {
   "cell_type": "code",
   "execution_count": 4,
   "id": "e366e1e4-6a1d-4606-9366-77f92ddbb059",
   "metadata": {},
   "outputs": [],
   "source": [
    "df = pd.read_csv(\"covid.csv\")"
   ]
  },
  {
   "cell_type": "code",
   "execution_count": 6,
   "id": "7d1d150f-c639-40b8-9b47-cc52996fa925",
   "metadata": {},
   "outputs": [
    {
     "name": "stderr",
     "output_type": "stream",
     "text": [
      "/var/folders/h4/r6tpj_q56gb11bpc5pv3wfyr0000gn/T/ipykernel_61989/3732298901.py:7: FutureWarning: Downcasting behavior in `replace` is deprecated and will be removed in a future version. To retain the old behavior, explicitly call `result.infer_objects(copy=False)`. To opt-in to the future behavior, set `pd.set_option('future.no_silent_downcasting', True)`\n",
      "  df['country'] = df['country'].replace(country_code_to_number, regex=True)\n"
     ]
    }
   ],
   "source": [
    "country_codes = ['GB', 'US', 'AU', 'CA', 'IE', 'IN', 'NZ', 'PK', 'LK', 'ZA', 'PH', 'SG', 'MY', 'NG', 'KE', 'BD', 'HK', 'JM', 'GH', 'TZ']\n",
    "\n",
    "# Create a dictionary to map country codes to numbers starting from 0\n",
    "country_code_to_number = {country: index for index, country in enumerate(country_codes)}\n",
    "\n",
    "# Replace country codes in 'file_name' with corresponding numbers\n",
    "df['country'] = df['country'].replace(country_code_to_number, regex=True)\n"
   ]
  },
  {
   "cell_type": "code",
   "execution_count": 8,
   "id": "afc1deb6-075b-4f00-8bd0-804f3aaadffc",
   "metadata": {},
   "outputs": [],
   "source": [
    "df.to_csv(\"testcovid.csv\")"
   ]
  },
  {
   "cell_type": "code",
   "execution_count": 9,
   "id": "ab8a65be-68ad-405d-b231-57ba596f4f4b",
   "metadata": {},
   "outputs": [
    {
     "name": "stderr",
     "output_type": "stream",
     "text": [
      "/var/folders/h4/r6tpj_q56gb11bpc5pv3wfyr0000gn/T/ipykernel_61989/3981033202.py:8: FutureWarning: Downcasting behavior in `replace` is deprecated and will be removed in a future version. To retain the old behavior, explicitly call `result.infer_objects(copy=False)`. To opt-in to the future behavior, set `pd.set_option('future.no_silent_downcasting', True)`\n",
      "  dfn['country'] = dfn['country'].replace(country_code_to_number, regex=True)\n"
     ]
    }
   ],
   "source": [
    "dfn = pd.read_csv(\"now.csv\")\n",
    "country_codes = ['GB', 'US', 'AU', 'CA', 'IE', 'IN', 'NZ', 'PK', 'LK', 'ZA', 'PH', 'SG', 'MY', 'NG', 'KE', 'BD', 'HK', 'JM', 'GH', 'TZ']\n",
    "\n",
    "# Create a dictionary to map country codes to numbers starting from 0\n",
    "country_code_to_number = {country: index for index, country in enumerate(country_codes)}\n",
    "\n",
    "# Replace country codes in 'file_name' with corresponding numbers\n",
    "dfn['country'] = dfn['country'].replace(country_code_to_number, regex=True)\n",
    "dfn.to_csv(\"testnow.csv\")\n"
   ]
  }
 ],
 "metadata": {
  "kernelspec": {
   "display_name": "Python 3 (ipykernel)",
   "language": "python",
   "name": "python3"
  },
  "language_info": {
   "codemirror_mode": {
    "name": "ipython",
    "version": 3
   },
   "file_extension": ".py",
   "mimetype": "text/x-python",
   "name": "python",
   "nbconvert_exporter": "python",
   "pygments_lexer": "ipython3",
   "version": "3.12.5"
  }
 },
 "nbformat": 4,
 "nbformat_minor": 5
}

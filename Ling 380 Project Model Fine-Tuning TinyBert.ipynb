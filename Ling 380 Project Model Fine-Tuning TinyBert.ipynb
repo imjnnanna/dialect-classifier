{
 "cells": [
  {
   "cell_type": "code",
   "execution_count": 15,
   "id": "448e73c0-8609-444f-a71d-fd2f5f6675b4",
   "metadata": {},
   "outputs": [
    {
     "name": "stderr",
     "output_type": "stream",
     "text": [
      "[nltk_data] Downloading package stopwords to\n",
      "[nltk_data]     /Users/danielwang/nltk_data...\n",
      "[nltk_data]   Package stopwords is already up-to-date!\n"
     ]
    }
   ],
   "source": [
    "import transformers\n",
    "from transformers import DistilBertTokenizer\n",
    "from transformers import TFDistilBertForSequenceClassification\n",
    "from transformers import TextClassificationPipeline\n",
    "\n",
    "import tensorflow as tf\n",
    "import pandas as pd\n",
    "import json\n",
    "import gc\n",
    "\n",
    "from sklearn.model_selection import train_test_split\n",
    "\n",
    "import re\n",
    "import nltk\n",
    "from nltk.corpus import stopwords\n",
    "nltk.download('stopwords')\n",
    "stopw = stopwords.words('english')\n",
    "\n",
    "import seaborn as sns\n",
    "import matplotlib.pyplot as plt\n",
    "from plotly.offline import iplot\n",
    "\n",
    "from tqdm import tqdm\n"
   ]
  },
  {
   "cell_type": "code",
   "execution_count": 16,
   "id": "0abba31a-4ebf-4624-a195-232fd7a4bfaa",
   "metadata": {},
   "outputs": [],
   "source": [
    "#Explore the training data\n",
    "csv = pd.read_csv(\"cleaned_slayer.csv\")"
   ]
  },
  {
   "cell_type": "code",
   "execution_count": 17,
   "id": "690961aa-5779-4659-9101-360ba10df585",
   "metadata": {},
   "outputs": [
    {
     "data": {
      "text/plain": [
       "file_name\n",
       "0     339\n",
       "1     338\n",
       "2     130\n",
       "3     117\n",
       "4      88\n",
       "5      85\n",
       "6      71\n",
       "7      45\n",
       "8      41\n",
       "9      40\n",
       "10     38\n",
       "11     38\n",
       "12     37\n",
       "13     37\n",
       "14     36\n",
       "15     35\n",
       "16     35\n",
       "17     35\n",
       "18     34\n",
       "19     31\n",
       "Name: count, dtype: int64"
      ]
     },
     "execution_count": 17,
     "metadata": {},
     "output_type": "execute_result"
    }
   ],
   "source": [
    "csv['file_name'].value_counts()"
   ]
  },
  {
   "cell_type": "code",
   "execution_count": 18,
   "id": "3224a628-d3ee-4aaf-9667-e4c9e84ab203",
   "metadata": {},
   "outputs": [],
   "source": [
    "#Convert training data to list\n",
    "data_texts = csv['content'].to_list()\n",
    "\n",
    "data_labels = csv['file_name'].to_list()"
   ]
  },
  {
   "cell_type": "code",
   "execution_count": 19,
   "id": "32b6115c-adcc-4e5e-b85f-68a84069bd62",
   "metadata": {},
   "outputs": [],
   "source": [
    "#Train Test Split\n",
    "train_texts, val_texts, train_labels, val_labels = train_test_split(data_texts, data_labels, test_size = 0.2, random_state = 0 )\n",
    "\n",
    "\n",
    "train_texts, test_texts, train_labels, test_labels = train_test_split(train_texts, train_labels, test_size = 0.01, random_state = 0 )\n"
   ]
  },
  {
   "cell_type": "code",
   "execution_count": 20,
   "id": "6743dc1c-72bb-4a40-912c-81f197fa69b5",
   "metadata": {},
   "outputs": [
    {
     "name": "stderr",
     "output_type": "stream",
     "text": [
      "Some weights of BertForSequenceClassification were not initialized from the model checkpoint at huawei-noah/TinyBERT_General_4L_312D and are newly initialized: ['classifier.bias', 'classifier.weight']\n",
      "You should probably TRAIN this model on a down-stream task to be able to use it for predictions and inference.\n",
      "huggingface/tokenizers: The current process just got forked, after parallelism has already been used. Disabling parallelism to avoid deadlocks...\n",
      "To disable this warning, you can either:\n",
      "\t- Avoid using `tokenizers` before the fork if possible\n",
      "\t- Explicitly set the environment variable TOKENIZERS_PARALLELISM=(true | false)\n",
      "/Library/Frameworks/Python.framework/Versions/3.12/lib/python3.12/site-packages/transformers/training_args.py:1575: FutureWarning:\n",
      "\n",
      "`evaluation_strategy` is deprecated and will be removed in version 4.46 of 🤗 Transformers. Use `eval_strategy` instead\n",
      "\n"
     ]
    },
    {
     "data": {
      "text/html": [
       "\n",
       "    <div>\n",
       "      \n",
       "      <progress value='287' max='287' style='width:300px; height:20px; vertical-align: middle;'></progress>\n",
       "      [287/287 1:11:13, Epoch 7/7]\n",
       "    </div>\n",
       "    <table border=\"1\" class=\"dataframe\">\n",
       "  <thead>\n",
       " <tr style=\"text-align: left;\">\n",
       "      <th>Step</th>\n",
       "      <th>Training Loss</th>\n",
       "      <th>Validation Loss</th>\n",
       "      <th>Accuracy</th>\n",
       "      <th>Precision</th>\n",
       "      <th>F1</th>\n",
       "    </tr>\n",
       "  </thead>\n",
       "  <tbody>\n",
       "    <tr>\n",
       "      <td>100</td>\n",
       "      <td>No log</td>\n",
       "      <td>2.905087</td>\n",
       "      <td>0.160606</td>\n",
       "      <td>0.025794</td>\n",
       "      <td>0.044450</td>\n",
       "    </tr>\n",
       "    <tr>\n",
       "      <td>200</td>\n",
       "      <td>No log</td>\n",
       "      <td>2.700311</td>\n",
       "      <td>0.160606</td>\n",
       "      <td>0.025794</td>\n",
       "      <td>0.044450</td>\n",
       "    </tr>\n",
       "  </tbody>\n",
       "</table><p>"
      ],
      "text/plain": [
       "<IPython.core.display.HTML object>"
      ]
     },
     "metadata": {},
     "output_type": "display_data"
    },
    {
     "name": "stderr",
     "output_type": "stream",
     "text": [
      "/Library/Frameworks/Python.framework/Versions/3.12/lib/python3.12/site-packages/sklearn/metrics/_classification.py:1531: UndefinedMetricWarning:\n",
      "\n",
      "Precision is ill-defined and being set to 0.0 in labels with no predicted samples. Use `zero_division` parameter to control this behavior.\n",
      "\n",
      "/Library/Frameworks/Python.framework/Versions/3.12/lib/python3.12/site-packages/sklearn/metrics/_classification.py:1531: UndefinedMetricWarning:\n",
      "\n",
      "Precision is ill-defined and being set to 0.0 in labels with no predicted samples. Use `zero_division` parameter to control this behavior.\n",
      "\n"
     ]
    },
    {
     "data": {
      "text/plain": [
       "TrainOutput(global_step=287, training_loss=2.8065126000381095, metrics={'train_runtime': 4281.6817, 'train_samples_per_second': 2.135, 'train_steps_per_second': 0.067, 'total_flos': 131245329997824.0, 'train_loss': 2.8065126000381095, 'epoch': 7.0})"
      ]
     },
     "execution_count": 20,
     "metadata": {},
     "output_type": "execute_result"
    }
   ],
   "source": [
    "#Load up TinyBERT model from huggingface\n",
    "from transformers import AutoTokenizer, AutoModelForSequenceClassification\n",
    "from torch.utils.data import Dataset, DataLoader\n",
    "from transformers import DistilBertTokenizer, DistilBertForSequenceClassification, Trainer, TrainingArguments\n",
    "from torch.utils.data import Dataset, DataLoader\n",
    "import torch\n",
    "\n",
    "from sklearn.metrics import accuracy_score, precision_score, f1_score\n",
    "\n",
    "\n",
    "# Load the tokenizer and model for TinyBERT\n",
    "model_name = 'huawei-noah/TinyBERT_General_4L_312D'\n",
    "\n",
    "# Load tokenizer\n",
    "tokenizer = AutoTokenizer.from_pretrained(model_name)\n",
    "\n",
    "# Load TinyBERT for Sequence Classification with adjusted num_labels\n",
    "trainer_model = AutoModelForSequenceClassification.from_pretrained(\n",
    "    model_name, \n",
    "    num_labels=20\n",
    ")\n",
    "def compute_metrics(eval_pred):\n",
    "    predictions, labels = eval_pred\n",
    "    preds = predictions.argmax(axis=-1)\n",
    "    acc = accuracy_score(labels, preds)\n",
    "    precision = precision_score(labels, preds, average='weighted')\n",
    "    f1 = f1_score(labels, preds, average='weighted')\n",
    "    return {\n",
    "        \"accuracy\": acc,\n",
    "        \"precision\": precision,\n",
    "        \"f1\": f1\n",
    "    }\n",
    "# Tokenize the data\n",
    "train_encodings = tokenizer(train_texts, truncation=True, padding=True, max_length=512)\n",
    "val_encodings = tokenizer(val_texts, truncation=True, padding=True, max_length=512)\n",
    "\n",
    "# Fit Data for PyTorch\n",
    "class TextDataset(Dataset):\n",
    "    def __init__(self, encodings, labels):\n",
    "        self.encodings = encodings\n",
    "        self.labels = labels\n",
    "\n",
    "    def __len__(self):\n",
    "        return len(self.labels)\n",
    "\n",
    "    def __getitem__(self, idx):\n",
    "        item = {key: torch.tensor(val[idx]) for key, val in self.encodings.items()}\n",
    "        item['labels'] = torch.tensor(self.labels[idx])\n",
    "        return item\n",
    "training_args = TrainingArguments(\n",
    "    output_dir='./tinybert_results',          \n",
    "    num_train_epochs=7,       \n",
    "    per_device_train_batch_size=32,\n",
    "    per_device_eval_batch_size=32,\n",
    "    warmup_steps=500,                \n",
    "    weight_decay=1e-5,               \n",
    "    logging_dir='./logs',            \n",
    "    evaluation_strategy=\"steps\",     \n",
    "    eval_steps=100                   \n",
    ")\n",
    "\n",
    "train_dataset = TextDataset(train_encodings, train_labels)\n",
    "val_dataset = TextDataset(val_encodings, val_labels)\n",
    "\n",
    "\n",
    "# Trainer setup\n",
    "trainer = Trainer(\n",
    "    model=trainer_model,                 \n",
    "    args=training_args,                  \n",
    "    train_dataset=train_dataset,         \n",
    "    eval_dataset=val_dataset,\n",
    "    compute_metrics=compute_metrics\n",
    ")\n",
    "\n",
    "# Train the model\n",
    "trainer.train()"
   ]
  },
  {
   "cell_type": "code",
   "execution_count": 21,
   "id": "e1779128-d822-463f-9682-e71720561b42",
   "metadata": {},
   "outputs": [],
   "source": [
    "#Save Model\n",
    "trainer.save_model(\"tinybertfinetune\")"
   ]
  },
  {
   "cell_type": "code",
   "execution_count": 22,
   "id": "55125f7c-00bc-4101-9ca3-ea303a68ce19",
   "metadata": {},
   "outputs": [],
   "source": [
    "#Load media test data\n",
    "test = pd.read_csv(\"test.csv\")"
   ]
  },
  {
   "cell_type": "code",
   "execution_count": 23,
   "id": "a27c571f-6cf5-4e5e-8bd5-322ef0dd38b7",
   "metadata": {},
   "outputs": [],
   "source": [
    "# Convert country to country integer values\n",
    "test['country'] = pd.to_numeric(test['country'], errors='coerce')\n",
    "\n",
    "# Drop rows with NaN values\n",
    "test = test.dropna(subset=['country'])\n",
    "\n"
   ]
  },
  {
   "cell_type": "code",
   "execution_count": 24,
   "id": "486440db-dd96-4e48-865b-72406c1ff2e4",
   "metadata": {},
   "outputs": [
    {
     "data": {
      "text/plain": [
       "country\n",
       "1.0     517\n",
       "0.0     114\n",
       "3.0      34\n",
       "2.0      13\n",
       "10.0      1\n",
       "4.0       1\n",
       "Name: count, dtype: int64"
      ]
     },
     "execution_count": 24,
     "metadata": {},
     "output_type": "execute_result"
    }
   ],
   "source": [
    "test['country'].value_counts()"
   ]
  },
  {
   "cell_type": "code",
   "execution_count": 25,
   "id": "a25461ab-e082-4124-a003-2c641d5990d0",
   "metadata": {},
   "outputs": [],
   "source": [
    "test_texts = test['text'].to_list()\n",
    "\n",
    "test_labels = test['country'].to_list()"
   ]
  },
  {
   "cell_type": "code",
   "execution_count": 26,
   "id": "221e3280-24fb-46b7-92eb-14e99c2c8f76",
   "metadata": {},
   "outputs": [],
   "source": [
    "from transformers import DistilBertTokenizer\n",
    "\n",
    "# Load the tokenizer used during training\n",
    "\n",
    "model_name = 'huawei-noah/TinyBERT_General_4L_312D'\n",
    "\n",
    "\n",
    "tokenizer = AutoTokenizer.from_pretrained(model_name)\n",
    "\n",
    "# Tokenize the test data\n",
    "test_encodings = tokenizer(test_texts, truncation=True, padding=True, max_length=512)\n"
   ]
  },
  {
   "cell_type": "code",
   "execution_count": 27,
   "id": "652c97c3-0971-4954-acc9-d851d7e7da3c",
   "metadata": {},
   "outputs": [],
   "source": [
    "class NewTestDataset(Dataset):\n",
    "    def __init__(self, encodings, labels = None):\n",
    "        self.encodings = encodings\n",
    "        self.labels = labels\n",
    "\n",
    "    def __len__(self):\n",
    "        return len(self.encodings[\"input_ids\"])\n",
    "\n",
    "    def __getitem__(self, idx):\n",
    "        item = {key: torch.tensor(val[idx]) for key, val in self.encodings.items()}\n",
    "        if self.labels:\n",
    "            item[\"labels\"] = torch.tensor(self.labels[idx])\n",
    "        return item\n",
    "\n",
    "# Create PyTorch dataset for test set\n",
    "test_dataset = TextDataset(test_encodings, test_labels)\n"
   ]
  },
  {
   "cell_type": "code",
   "execution_count": 28,
   "id": "ad44a4e6-7fc8-42dc-be0f-948066d8da40",
   "metadata": {},
   "outputs": [
    {
     "data": {
      "text/html": [],
      "text/plain": [
       "<IPython.core.display.HTML object>"
      ]
     },
     "metadata": {},
     "output_type": "display_data"
    },
    {
     "name": "stderr",
     "output_type": "stream",
     "text": [
      "/Library/Frameworks/Python.framework/Versions/3.12/lib/python3.12/site-packages/sklearn/metrics/_classification.py:1531: UndefinedMetricWarning:\n",
      "\n",
      "Precision is ill-defined and being set to 0.0 in labels with no predicted samples. Use `zero_division` parameter to control this behavior.\n",
      "\n"
     ]
    }
   ],
   "source": [
    "test_results = trainer.predict(test_dataset)"
   ]
  },
  {
   "cell_type": "code",
   "execution_count": 29,
   "id": "eda013a1-e831-4670-8044-a5429804273b",
   "metadata": {},
   "outputs": [
    {
     "name": "stdout",
     "output_type": "stream",
     "text": [
      "Test Accuracy: 0.7602941176470588\n",
      "Test F1: 0.6567620030468327\n",
      "Test Precision: 0.5780471453287197\n"
     ]
    }
   ],
   "source": [
    "metrics = test_results.metrics\n",
    "print(f\"Test Accuracy: {metrics['test_accuracy']}\")\n",
    "print(f\"Test F1: {metrics['test_f1']}\")\n",
    "print(f\"Test Precision: {metrics['test_precision']}\")\n"
   ]
  },
  {
   "cell_type": "code",
   "execution_count": 30,
   "id": "6ce53125-81bb-42ec-bef7-0fe6e30fdc0b",
   "metadata": {},
   "outputs": [],
   "source": [
    "#Convert from integers back to country codes\n",
    "country_codes = ['GB', 'US', 'AU', 'CA', 'IE', 'PH']\n",
    "number_to_country_code = {index: country for index, country in enumerate(country_codes)}\n"
   ]
  },
  {
   "cell_type": "code",
   "execution_count": 31,
   "id": "870894c3-3819-4631-ab76-26131e598d1a",
   "metadata": {},
   "outputs": [
    {
     "data": {
      "image/png": "[encoded data removed]",
      "text/plain": [
       "<Figure size 1000x800 with 2 Axes>"
      ]
     },
     "metadata": {},
     "output_type": "display_data"
    }
   ],
   "source": [
    "import torch\n",
    "from sklearn.metrics import confusion_matrix\n",
    "import matplotlib.pyplot as plt\n",
    "import numpy as np3\n",
    "#Generate a confusion matrix\n",
    "predictions = test_results.predictions.argmax(axis=-1)  # Choose the class with highest probability\n",
    "true_labels = test_results.label_ids\n",
    "\n",
    "cm_normalized = confusion_matrix(true_labels, predictions, normalize='true')\n",
    "\n",
    "\n",
    "class_names = [number_to_country_code[i] for i in range(len(country_codes))]\n",
    "\n",
    "plt.figure(figsize=(10, 8))\n",
    "plt.imshow(cm_normalized, interpolation='nearest', cmap='Blues')\n",
    "plt.colorbar()\n",
    "\n",
    "\n",
    "tick_marks = np.arange(len(class_names))\n",
    "plt.xticks(tick_marks, class_names, rotation=45, ha=\"right\")\n",
    "plt.yticks(tick_marks, class_names)\n",
    "\n",
    "\n",
    "accuracy = (predictions == true_labels).mean()\n",
    "plt.text(0.5, -0.1, f'Accuracy: {accuracy:.2f}', size=15, ha='center', transform=plt.gca().transAxes)\n",
    "\n",
    "\n",
    "plt.xlabel('Predicted Label')\n",
    "plt.ylabel('True Label')\n",
    "plt.title('Normalized Confusion Matrix')\n",
    "plt.tight_layout()\n",
    "plt.show()\n",
    "\n"
   ]
  },
  {
   "cell_type": "code",
   "execution_count": 32,
   "id": "0d2eb51f-73f7-4fe0-8d32-de076a9ac4b2",
   "metadata": {},
   "outputs": [],
   "source": [
    "#Read/Clean COVID dataset\n",
    "test = pd.read_csv(\"testcovid.csv\")\n",
    "# Convert to numeric with errors='coerce' (turns invalid values into NaN)\n",
    "test['country'] = pd.to_numeric(test['country'], errors='coerce')\n",
    "\n",
    "# Drop rows with NaN values (those that couldn't be converted)\n",
    "test = test.dropna(subset=['country'])\n",
    "test_texts = test['text'].to_list()\n",
    "\n",
    "test_labels = test['country'].to_list()"
   ]
  },
  {
   "cell_type": "code",
   "execution_count": 33,
   "id": "20b46758-d622-4090-af76-a1f6d2908364",
   "metadata": {},
   "outputs": [],
   "source": [
    "\n",
    "from transformers import DistilBertTokenizer\n",
    "\n",
    "# Load the tokenizer used during training\n",
    "model_name = 'huawei-noah/TinyBERT_General_4L_312D'\n",
    "\n",
    "# Load tokenizer\n",
    "tokenizer = AutoTokenizer.from_pretrained(model_name)\n",
    "\n",
    "# Tokenize the test data\n",
    "test_encodings = tokenizer(test_texts, truncation=True, padding=True, max_length=512)\n",
    "class NewTestDataset(Dataset):\n",
    "    def __init__(self, encodings, labels = None):\n",
    "        self.encodings = encodings\n",
    "        self.labels = labels\n",
    "\n",
    "    def __len__(self):\n",
    "        return len(self.encodings[\"input_ids\"])\n",
    "\n",
    "    def __getitem__(self, idx):\n",
    "        item = {key: torch.tensor(val[idx]) for key, val in self.encodings.items()}\n",
    "        if self.labels:\n",
    "            item[\"labels\"] = torch.tensor(self.labels[idx])\n",
    "        return item\n",
    "\n",
    "# Instantiate dataset\n",
    "test_dataset = TextDataset(test_encodings, test_labels)\n"
   ]
  },
  {
   "cell_type": "code",
   "execution_count": 34,
   "id": "2cd2edbe-ba8a-4f32-b612-87b44724a8ed",
   "metadata": {},
   "outputs": [
    {
     "data": {
      "text/html": [],
      "text/plain": [
       "<IPython.core.display.HTML object>"
      ]
     },
     "metadata": {},
     "output_type": "display_data"
    },
    {
     "name": "stderr",
     "output_type": "stream",
     "text": [
      "/Library/Frameworks/Python.framework/Versions/3.12/lib/python3.12/site-packages/sklearn/metrics/_classification.py:1531: UndefinedMetricWarning:\n",
      "\n",
      "Precision is ill-defined and being set to 0.0 in labels with no predicted samples. Use `zero_division` parameter to control this behavior.\n",
      "\n"
     ]
    }
   ],
   "source": [
    "test_results = trainer.predict(test_dataset)\n"
   ]
  },
  {
   "cell_type": "code",
   "execution_count": 35,
   "id": "ce204577-414e-4827-98da-7b0afa0ff82c",
   "metadata": {},
   "outputs": [
    {
     "name": "stdout",
     "output_type": "stream",
     "text": [
      "Test Accuracy: 0.41798298906439857\n",
      "Test F1: 0.24642013408423838\n",
      "Test Precision: 0.17470977914720912\n"
     ]
    }
   ],
   "source": [
    "metrics = test_results.metrics\n",
    "print(f\"Test Accuracy: {metrics['test_accuracy']}\")\n",
    "print(f\"Test F1: {metrics['test_f1']}\")\n",
    "print(f\"Test Precision: {metrics['test_precision']}\")"
   ]
  },
  {
   "cell_type": "code",
   "execution_count": 36,
   "id": "8d5fb5ec-65af-4c50-ace2-8cdc9512a092",
   "metadata": {},
   "outputs": [],
   "source": [
    "\n",
    "country_codes = ['gb', 'us', 'au', 'ca', 'ie', 'in', 'nz', 'pk', 'lk', 'za', 'ph', 'sg', 'my', 'ng', 'ke', 'bd', 'hk', 'jm', 'gh', 'tz']\n",
    "\n",
    "number_to_country_code = {index: country for index, country in enumerate(country_codes)}"
   ]
  },
  {
   "cell_type": "code",
   "execution_count": 39,
   "id": "78fcb553-a12c-4a2e-a9a0-974c1c44d547",
   "metadata": {},
   "outputs": [
    {
     "data": {
      "image/png": "[encoded data removed]",
      "text/plain": [
       "<Figure size 1000x800 with 2 Axes>"
      ]
     },
     "metadata": {},
     "output_type": "display_data"
    }
   ],
   "source": [
    "import torch\n",
    "from sklearn.metrics import confusion_matrix\n",
    "import matplotlib.pyplot as plt\n",
    "import numpy as np\n",
    "\n",
    "\n",
    "# Get the predicted labels and true labels\n",
    "predictions = test_results.predictions.argmax(axis=-1)  # Choose the class with highest probability\n",
    "true_labels = test_results.label_ids\n",
    "\n",
    "# Compute the normalized confusion matrix\n",
    "cm_normalized = confusion_matrix(true_labels, predictions, normalize='true')\n",
    "\n",
    "# Get class names from your label encoder or dataset\n",
    "# If you have a label encoder, use it to get the class names:\n",
    "class_names = [number_to_country_code[i] for i in range(len(country_codes))]\n",
    "\n",
    "# Create a confusion matrix plot\n",
    "plt.figure(figsize=(10, 8))\n",
    "plt.imshow(cm_normalized, interpolation='nearest', cmap='Blues')\n",
    "plt.colorbar()\n",
    "\n",
    "# Add labels for axes\n",
    "tick_marks = np.arange(len(class_names))\n",
    "plt.xticks(tick_marks, class_names, rotation=45, ha=\"right\")\n",
    "plt.yticks(tick_marks, class_names)\n",
    "\n",
    "# Display overall accuracy\n",
    "accuracy = (predictions == true_labels).mean()\n",
    "plt.text(0.5, -0.1, f'Accuracy: {accuracy:.2f}', size=15, ha='center', transform=plt.gca().transAxes)\n",
    "\n",
    "# Add labels and title\n",
    "plt.xlabel('Predicted Label')\n",
    "plt.ylabel('True Label')\n",
    "plt.title('Normalized Confusion Matrix')\n",
    "plt.tight_layout()\n",
    "plt.show()"
   ]
  },
  {
   "cell_type": "code",
   "execution_count": 40,
   "id": "e482ee7f-391c-4493-88bd-4466be0764b0",
   "metadata": {},
   "outputs": [],
   "source": [
    "#Clean and load NOW test dataset\n",
    "test = pd.read_csv(\"testnow.csv\")\n",
    "test['country'] = pd.to_numeric(test['country'], errors='coerce')\n",
    "\n",
    "test = test.dropna(subset=['country'])\n",
    "test_texts = test['text'].to_list()\n",
    "\n",
    "test_labels = test['country'].to_list()"
   ]
  },
  {
   "cell_type": "code",
   "execution_count": 41,
   "id": "a3bdd833-4d65-4d00-966b-30ab08bafb5d",
   "metadata": {},
   "outputs": [],
   "source": [
    "\n",
    "from transformers import DistilBertTokenizer\n",
    "\n",
    "model_name = 'huawei-noah/TinyBERT_General_4L_312D'\n",
    "\n",
    "tokenizer = AutoTokenizer.from_pretrained(model_name)\n",
    "\n",
    "\n",
    "test_encodings = tokenizer(test_texts, truncation=True, padding=True, max_length=512)\n",
    "class NewTestDataset(Dataset):\n",
    "    def __init__(self, encodings, labels = None):\n",
    "        self.encodings = encodings\n",
    "        self.labels = labels\n",
    "\n",
    "    def __len__(self):\n",
    "        return len(self.encodings[\"input_ids\"])\n",
    "\n",
    "    def __getitem__(self, idx):\n",
    "        item = {key: torch.tensor(val[idx]) for key, val in self.encodings.items()}\n",
    "        if self.labels:\n",
    "            item[\"labels\"] = torch.tensor(self.labels[idx])\n",
    "        return item\n",
    "\n",
    "test_dataset = TextDataset(test_encodings, test_labels)"
   ]
  },
  {
   "cell_type": "code",
   "execution_count": 42,
   "id": "97a8b1cd-53ea-4649-a10a-457bfe207219",
   "metadata": {},
   "outputs": [
    {
     "data": {
      "text/html": [],
      "text/plain": [
       "<IPython.core.display.HTML object>"
      ]
     },
     "metadata": {},
     "output_type": "display_data"
    },
    {
     "name": "stderr",
     "output_type": "stream",
     "text": [
      "/Library/Frameworks/Python.framework/Versions/3.12/lib/python3.12/site-packages/sklearn/metrics/_classification.py:1531: UndefinedMetricWarning:\n",
      "\n",
      "Precision is ill-defined and being set to 0.0 in labels with no predicted samples. Use `zero_division` parameter to control this behavior.\n",
      "\n"
     ]
    }
   ],
   "source": [
    "test_results = trainer.predict(test_dataset)\n"
   ]
  },
  {
   "cell_type": "code",
   "execution_count": 43,
   "id": "52b6366c-928a-4fc6-8853-75262a547ed7",
   "metadata": {},
   "outputs": [
    {
     "name": "stdout",
     "output_type": "stream",
     "text": [
      "Test Accuracy: 0.1337290502793296\n",
      "Test F1: 0.03154802972404265\n",
      "Test Precision: 0.017883458888611464\n"
     ]
    }
   ],
   "source": [
    "metrics = test_results.metrics\n",
    "print(f\"Test Accuracy: {metrics['test_accuracy']}\")\n",
    "print(f\"Test F1: {metrics['test_f1']}\")\n",
    "print(f\"Test Precision: {metrics['test_precision']}\")"
   ]
  },
  {
   "cell_type": "code",
   "execution_count": 44,
   "id": "4826f975-d492-4e6b-8378-37552a777440",
   "metadata": {},
   "outputs": [],
   "source": [
    "\n",
    "country_codes = ['gb', 'us', 'au', 'ca', 'ie', 'in', 'nz', 'pk', 'lk', 'za', 'ph', 'sg', 'my', 'ng', 'ke', 'bd', 'hk', 'jm', 'gh', 'tz']\n",
    "\n",
    "number_to_country_code = {index: country for index, country in enumerate(country_codes)}"
   ]
  },
  {
   "cell_type": "code",
   "execution_count": 45,
   "id": "90aae1b6-cd09-4428-b38d-aae0eb871782",
   "metadata": {},
   "outputs": [
    {
     "data": {
      "image/png": "[encoded data removed]",
      "text/plain": [
       "<Figure size 1000x800 with 2 Axes>"
      ]
     },
     "metadata": {},
     "output_type": "display_data"
    }
   ],
   "source": [
    "import torch\n",
    "from sklearn.metrics import confusion_matrix\n",
    "import matplotlib.pyplot as plt\n",
    "import numpy as np\n",
    "\n",
    "predictions = test_results.predictions.argmax(axis=-1)\n",
    "true_labels = test_results.label_ids\n",
    "\n",
    "cm_normalized = confusion_matrix(true_labels, predictions, normalize='true')\n",
    "\n",
    "\n",
    "class_names = [number_to_country_code[i] for i in range(len(country_codes))]\n",
    "\n",
    "plt.figure(figsize=(10, 8))\n",
    "plt.imshow(cm_normalized, interpolation='nearest', cmap='Blues')\n",
    "plt.colorbar()\n",
    "\n",
    "tick_marks = np.arange(len(class_names))\n",
    "plt.xticks(tick_marks, class_names, rotation=45, ha=\"right\")\n",
    "plt.yticks(tick_marks, class_names)\n",
    "\n",
    "accuracy = (predictions == true_labels).mean()\n",
    "plt.text(0.5, -0.1, f'Accuracy: {accuracy:.2f}', size=15, ha='center', transform=plt.gca().transAxes)\n",
    "\n",
    "plt.xlabel('Predicted Label')\n",
    "plt.ylabel('True Label')\n",
    "plt.title('Normalized Confusion Matrix')\n",
    "plt.tight_layout()\n",
    "plt.show()"
   ]
  }
 ],
 "metadata": {
  "kernelspec": {
   "display_name": "Python 3 (ipykernel)",
   "language": "python",
   "name": "python3"
  },
  "language_info": {
   "codemirror_mode": {
    "name": "ipython",
    "version": 3
   },
   "file_extension": ".py",
   "mimetype": "text/x-python",
   "name": "python",
   "nbconvert_exporter": "python",
   "pygments_lexer": "ipython3",
   "version": "3.12.5"
  }
 },
 "nbformat": 4,
 "nbformat_minor": 5
}

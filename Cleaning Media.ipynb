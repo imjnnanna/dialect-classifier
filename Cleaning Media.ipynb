{
 "cells": [
  {
   "cell_type": "code",
   "execution_count": 11,
   "id": "b4e67a68-cd2b-41b4-9a2f-becc5464eca6",
   "metadata": {},
   "outputs": [],
   "source": [
    "import pandas as pd"
   ]
  },
  {
   "cell_type": "code",
   "execution_count": 12,
   "id": "4ae6282e-07ff-4824-8c38-af1fd2569d17",
   "metadata": {},
   "outputs": [],
   "source": [
    "df = pd.read_csv(\"media.csv\")"
   ]
  },
  {
   "cell_type": "code",
   "execution_count": 13,
   "id": "e57760a2-1743-49c0-ac6a-443ec2711820",
   "metadata": {},
   "outputs": [
    {
     "data": {
      "text/plain": [
       "country\n",
       "US                          494\n",
       "GB                           90\n",
       "CA                           32\n",
       "AU                           11\n",
       "['GB', 'US']                  8\n",
       "['US', 'CA']                  7\n",
       "['CA', 'US']                  6\n",
       "['US', 'GB']                  3\n",
       "[None, 'US']                  2\n",
       "['AU', 'US']                  2\n",
       "['GB', 'US', 'CA']            2\n",
       "['US', None]                  2\n",
       "[None, 'CA']                  1\n",
       "[None, None]                  1\n",
       "['GB', 'CA', 'ZA']            1\n",
       "['US', 'HK']                  1\n",
       "[None, 'US', None]            1\n",
       "['IE', 'CA', 'GB', 'US']      1\n",
       "['GB', 'CA']                  1\n",
       "['CA', 'AU']                  1\n",
       "['GB', 'AU']                  1\n",
       "[None, None, None, 'US']      1\n",
       "['US', 'CA', 'GB']            1\n",
       "['US', None, 'GB']            1\n",
       "[None, 'GB', 'ZA', None]      1\n",
       "['AU', 'GB', 'US', None]      1\n",
       "['CA', None]                  1\n",
       "['GB', None, 'US']            1\n",
       "['AU', None]                  1\n",
       "['HK', 'US']                  1\n",
       "PH                            1\n",
       "['AU', 'US', 'GB']            1\n",
       "['GB', None]                  1\n",
       "IE                            1\n",
       "Name: count, dtype: int64"
      ]
     },
     "execution_count": 13,
     "metadata": {},
     "output_type": "execute_result"
    }
   ],
   "source": [
    "df['country'].value_counts()"
   ]
  },
  {
   "cell_type": "code",
   "execution_count": 6,
   "id": "77ea3a20-79af-4991-bd35-5c24fdd4e5cf",
   "metadata": {},
   "outputs": [],
   "source": [
    "country_codes = ['GB', 'US', 'AU', 'CA', 'IE', 'IN', 'NZ', 'PK', 'LK', 'ZA', 'PH', 'SG', 'MY', 'NG', 'KE', 'BD', 'HK', 'JM', 'GH', 'TZ']\n",
    "\n",
    "# Create a dictionary to map country codes to numbers starting from 0\n",
    "country_code_to_number = {country: index for index, country in enumerate(country_codes)}\n",
    "\n",
    "# Replace country codes in 'file_name' with corresponding numbers\n",
    "df['country'] = df['country'].replace(country_code_to_number, regex=True)\n"
   ]
  },
  {
   "cell_type": "code",
   "execution_count": 10,
   "id": "d50c67af-bbbe-4438-9b70-486813b72be8",
   "metadata": {},
   "outputs": [],
   "source": [
    "df.to_csv(\"test.csv\")"
   ]
  }
 ],
 "metadata": {
  "kernelspec": {
   "display_name": "Python 3 (ipykernel)",
   "language": "python",
   "name": "python3"
  },
  "language_info": {
   "codemirror_mode": {
    "name": "ipython",
    "version": 3
   },
   "file_extension": ".py",
   "mimetype": "text/x-python",
   "name": "python",
   "nbconvert_exporter": "python",
   "pygments_lexer": "ipython3",
   "version": "3.12.5"
  }
 },
 "nbformat": 4,
 "nbformat_minor": 5
}
